{
  "nbformat": 4,
  "nbformat_minor": 0,
  "metadata": {
    "colab": {
      "provenance": []
    },
    "kernelspec": {
      "name": "python3",
      "display_name": "Python 3"
    },
    "language_info": {
      "name": "python"
    }
  },
  "cells": [
    {
      "cell_type": "markdown",
      "source": [
        "# Hypothesis Testing on AUC, F1, and BalancedAccuracy"
      ],
      "metadata": {
        "id": "1lzzBd0TIb9v"
      }
    },
    {
      "cell_type": "code",
      "execution_count": null,
      "metadata": {
        "id": "77zCUki0FVh8"
      },
      "outputs": [],
      "source": [
        "import pandas as pd\n",
        "import numpy as np"
      ]
    },
    {
      "cell_type": "code",
      "source": [
        "%cd /content/drive/MyDrive/Stage 2A/ANN_CNN_comparison_PCA/"
      ],
      "metadata": {
        "colab": {
          "base_uri": "https://localhost:8080/"
        },
        "id": "uibH2CPnXgtE",
        "outputId": "df025688-18ca-4b97-9b94-76dd728bc360"
      },
      "execution_count": null,
      "outputs": [
        {
          "output_type": "stream",
          "name": "stdout",
          "text": [
            "/content/drive/MyDrive/Stage 2A/ANN_CNN_comparison_PCA\n"
          ]
        }
      ]
    },
    {
      "cell_type": "code",
      "source": [
        "cnn_metrics_1 = pd.read_csv('CNN_metrics_1-4.csv')\n",
        "ann_metrics_1 = pd.read_csv('ANN_metrics_1-4.csv')\n",
        "cnn_metrics_2 = pd.read_csv('CNN_metrics_5-8.csv')\n",
        "ann_metrics_2 = pd.read_csv('ANN_metrics_5-8.csv')\n",
        "cnn_metrics_3 = pd.read_csv('CNN_metrics_9-15.csv')\n",
        "ann_metrics_3 = pd.read_csv('ANN_metrics_9-15.csv')\n",
        "cnn_metrics_4 = pd.read_csv('CNN_metrics_16-20.csv')\n",
        "ann_metrics_4 = pd.read_csv('ANN_metrics_16-20.csv')"
      ],
      "metadata": {
        "id": "gloWfte-I0V0"
      },
      "execution_count": null,
      "outputs": []
    },
    {
      "cell_type": "code",
      "source": [
        "#merge csv\n",
        "cnn_metrics = pd.concat([cnn_metrics_1, cnn_metrics_2, cnn_metrics_3, cnn_metrics_4]).reset_index(drop=True)\n",
        "ann_metrics = pd.concat([ann_metrics_1, ann_metrics_2, ann_metrics_3, ann_metrics_4]).reset_index(drop=True)"
      ],
      "metadata": {
        "id": "gKi30DjXSy2w"
      },
      "execution_count": null,
      "outputs": []
    },
    {
      "cell_type": "code",
      "source": [
        "cnn_metrics"
      ],
      "metadata": {
        "colab": {
          "base_uri": "https://localhost:8080/",
          "height": 676
        },
        "id": "VbddLQ79mCv9",
        "outputId": "71f2715d-a4b3-430a-d7f1-2650030b8ce5"
      },
      "execution_count": null,
      "outputs": [
        {
          "output_type": "execute_result",
          "data": {
            "text/plain": [
              "         auc  balanced_accuracy        f1  training_time  \\\n",
              "0   0.663392           0.492537  0.787393     249.373116   \n",
              "1   0.767761           0.495522  0.789971     120.168473   \n",
              "2   0.743202           0.589824  0.825510     122.325458   \n",
              "3   0.409932           0.500000  0.793811      94.605761   \n",
              "4   0.680443           0.556352  0.804888     298.421132   \n",
              "5   0.758046           0.598161  0.842328     119.909535   \n",
              "6   0.732490           0.507432  0.794936     263.329756   \n",
              "7   0.668440           0.508929  0.796300     146.617776   \n",
              "8   0.750855           0.500000  0.790169      82.786062   \n",
              "9   0.749733           0.517804  0.798996     107.305981   \n",
              "10  0.659378           0.565066  0.780849      90.767645   \n",
              "11  0.765291           0.565387  0.821630     295.603430   \n",
              "12  0.748637           0.674989  0.786412     112.148853   \n",
              "13  0.727055           0.506097  0.796706     180.871441   \n",
              "14  0.740283           0.611241  0.813472     377.096830   \n",
              "15  0.750109           0.576048  0.822527     225.278446   \n",
              "16  0.709363           0.577654  0.817533     168.133948   \n",
              "17  0.639956           0.540964  0.817409      82.690411   \n",
              "18  0.554355           0.500000  0.793296     142.867270   \n",
              "19  0.539330           0.500000  0.793296     208.582752   \n",
              "\n",
              "                                                  FPR  \\\n",
              "0   [0.         0.00298507 0.01492537 0.01492537 0...   \n",
              "1   [0.         0.00298507 0.01492537 0.01492537 0...   \n",
              "2   [0.         0.00298507 0.00298507 0.00895522 0...   \n",
              "3   [0.         0.00298507 0.02089552 0.02089552 0...   \n",
              "4   [0.         0.00299401 0.01197605 0.01197605 0...   \n",
              "5   [0.         0.         0.         0.00598802 0...   \n",
              "6   [0.         0.00299401 0.00299401 0.00898204 0...   \n",
              "7   [0.         0.         0.00299401 0.00299401 0...   \n",
              "8   [0.         0.00299401 0.00598802 0.00598802 0...   \n",
              "9   [0.         0.00299401 0.01197605 0.01197605 0...   \n",
              "10  [0.         0.         0.00299401 0.00299401 0...   \n",
              "11  [0.         0.00299401 0.00299401 0.00598802 0...   \n",
              "12  [0.         0.00299401 0.00299401 0.00598802 0...   \n",
              "13  [0.         0.00299401 0.00299401 0.00598802 0...   \n",
              "14  [0.         0.         0.00898204 0.00898204 0...   \n",
              "15  [0.         0.         0.         0.00598802 0...   \n",
              "16  [0.         0.         0.         0.00299401 0...   \n",
              "17  [0.         0.00299401 0.00299401 0.02694611 0...   \n",
              "18  [0.         0.00299401 0.00598802 0.00598802 0...   \n",
              "19  [0.         0.         0.00299401 0.00299401 0...   \n",
              "\n",
              "                                                  TPR  \\\n",
              "0   [0.         0.         0.         0.01818182 0...   \n",
              "1   [0.         0.         0.         0.01818182 0...   \n",
              "2   [0.         0.         0.10909091 0.10909091 0...   \n",
              "3   [0.         0.         0.         0.01818182 0...   \n",
              "4   [0.         0.         0.         0.01785714 0...   \n",
              "5   [0.         0.01785714 0.05357143 0.05357143 0...   \n",
              "6   [0.         0.         0.05357143 0.05357143 0...   \n",
              "7   [0.         0.01785714 0.01785714 0.03571429 0...   \n",
              "8   [0.         0.         0.         0.01785714 0...   \n",
              "9   [0.         0.         0.         0.03571429 0...   \n",
              "10  [0.         0.01785714 0.01785714 0.03571429 0...   \n",
              "11  [0.         0.         0.01785714 0.01785714 0...   \n",
              "12  [0.         0.         0.07142857 0.07142857 0...   \n",
              "13  [0.         0.         0.01818182 0.01818182 0...   \n",
              "14  [0.         0.01818182 0.01818182 0.05454545 0...   \n",
              "15  [0.         0.01818182 0.07272727 0.07272727 0...   \n",
              "16  [0.         0.01818182 0.03636364 0.03636364 0...   \n",
              "17  [0.         0.         0.09090909 0.09090909 0...   \n",
              "18  [0.         0.         0.         0.01818182 0...   \n",
              "19  [0.         0.01818182 0.01818182 0.03636364 0...   \n",
              "\n",
              "                                            Threshold  \n",
              "0   [       inf 0.7110383  0.60231143 0.39708012 0...  \n",
              "1   [       inf 0.5405065  0.42617434 0.4129844  0...  \n",
              "2   [       inf 0.9172404  0.7482174  0.6867834  0...  \n",
              "3   [       inf 0.20412377 0.1503241  0.14441739 0...  \n",
              "4   [       inf 0.8099345  0.7227417  0.6947994  0...  \n",
              "5   [       inf 0.7899027  0.7515928  0.69897383 0...  \n",
              "6   [       inf 0.5881997  0.39770707 0.39596704 0...  \n",
              "7   [       inf 0.61095524 0.49674898 0.49042937 0...  \n",
              "8   [       inf 0.3439771  0.3304711  0.32497105 0...  \n",
              "9   [       inf 0.7977335  0.5715183  0.55293876 0...  \n",
              "10  [       inf 0.9910533  0.9708109  0.92499065 0...  \n",
              "11  [       inf 0.92790675 0.79272956 0.7311283  0...  \n",
              "12  [       inf 0.95580673 0.87600034 0.8731209  0...  \n",
              "13  [       inf 0.57961094 0.5492281  0.50259435 0...  \n",
              "14  [       inf 0.8447208  0.7917846  0.75362843 0...  \n",
              "15  [       inf 0.9597743  0.82159    0.79021806 0...  \n",
              "16  [       inf 0.7455206  0.7357288  0.73512834 0...  \n",
              "17  [       inf 0.8065694  0.5261669  0.4418029  0...  \n",
              "18  [       inf 0.39087808 0.382774   0.3806739  0...  \n",
              "19  [       inf 0.49232793 0.39356548 0.3440045  0...  "
            ],
            "text/html": [
              "\n",
              "  <div id=\"df-b82e4ca4-e9de-49c1-bd34-ff304359779a\" class=\"colab-df-container\">\n",
              "    <div>\n",
              "<style scoped>\n",
              "    .dataframe tbody tr th:only-of-type {\n",
              "        vertical-align: middle;\n",
              "    }\n",
              "\n",
              "    .dataframe tbody tr th {\n",
              "        vertical-align: top;\n",
              "    }\n",
              "\n",
              "    .dataframe thead th {\n",
              "        text-align: right;\n",
              "    }\n",
              "</style>\n",
              "<table border=\"1\" class=\"dataframe\">\n",
              "  <thead>\n",
              "    <tr style=\"text-align: right;\">\n",
              "      <th></th>\n",
              "      <th>auc</th>\n",
              "      <th>balanced_accuracy</th>\n",
              "      <th>f1</th>\n",
              "      <th>training_time</th>\n",
              "      <th>FPR</th>\n",
              "      <th>TPR</th>\n",
              "      <th>Threshold</th>\n",
              "    </tr>\n",
              "  </thead>\n",
              "  <tbody>\n",
              "    <tr>\n",
              "      <th>0</th>\n",
              "      <td>0.663392</td>\n",
              "      <td>0.492537</td>\n",
              "      <td>0.787393</td>\n",
              "      <td>249.373116</td>\n",
              "      <td>[0.         0.00298507 0.01492537 0.01492537 0...</td>\n",
              "      <td>[0.         0.         0.         0.01818182 0...</td>\n",
              "      <td>[       inf 0.7110383  0.60231143 0.39708012 0...</td>\n",
              "    </tr>\n",
              "    <tr>\n",
              "      <th>1</th>\n",
              "      <td>0.767761</td>\n",
              "      <td>0.495522</td>\n",
              "      <td>0.789971</td>\n",
              "      <td>120.168473</td>\n",
              "      <td>[0.         0.00298507 0.01492537 0.01492537 0...</td>\n",
              "      <td>[0.         0.         0.         0.01818182 0...</td>\n",
              "      <td>[       inf 0.5405065  0.42617434 0.4129844  0...</td>\n",
              "    </tr>\n",
              "    <tr>\n",
              "      <th>2</th>\n",
              "      <td>0.743202</td>\n",
              "      <td>0.589824</td>\n",
              "      <td>0.825510</td>\n",
              "      <td>122.325458</td>\n",
              "      <td>[0.         0.00298507 0.00298507 0.00895522 0...</td>\n",
              "      <td>[0.         0.         0.10909091 0.10909091 0...</td>\n",
              "      <td>[       inf 0.9172404  0.7482174  0.6867834  0...</td>\n",
              "    </tr>\n",
              "    <tr>\n",
              "      <th>3</th>\n",
              "      <td>0.409932</td>\n",
              "      <td>0.500000</td>\n",
              "      <td>0.793811</td>\n",
              "      <td>94.605761</td>\n",
              "      <td>[0.         0.00298507 0.02089552 0.02089552 0...</td>\n",
              "      <td>[0.         0.         0.         0.01818182 0...</td>\n",
              "      <td>[       inf 0.20412377 0.1503241  0.14441739 0...</td>\n",
              "    </tr>\n",
              "    <tr>\n",
              "      <th>4</th>\n",
              "      <td>0.680443</td>\n",
              "      <td>0.556352</td>\n",
              "      <td>0.804888</td>\n",
              "      <td>298.421132</td>\n",
              "      <td>[0.         0.00299401 0.01197605 0.01197605 0...</td>\n",
              "      <td>[0.         0.         0.         0.01785714 0...</td>\n",
              "      <td>[       inf 0.8099345  0.7227417  0.6947994  0...</td>\n",
              "    </tr>\n",
              "    <tr>\n",
              "      <th>5</th>\n",
              "      <td>0.758046</td>\n",
              "      <td>0.598161</td>\n",
              "      <td>0.842328</td>\n",
              "      <td>119.909535</td>\n",
              "      <td>[0.         0.         0.         0.00598802 0...</td>\n",
              "      <td>[0.         0.01785714 0.05357143 0.05357143 0...</td>\n",
              "      <td>[       inf 0.7899027  0.7515928  0.69897383 0...</td>\n",
              "    </tr>\n",
              "    <tr>\n",
              "      <th>6</th>\n",
              "      <td>0.732490</td>\n",
              "      <td>0.507432</td>\n",
              "      <td>0.794936</td>\n",
              "      <td>263.329756</td>\n",
              "      <td>[0.         0.00299401 0.00299401 0.00898204 0...</td>\n",
              "      <td>[0.         0.         0.05357143 0.05357143 0...</td>\n",
              "      <td>[       inf 0.5881997  0.39770707 0.39596704 0...</td>\n",
              "    </tr>\n",
              "    <tr>\n",
              "      <th>7</th>\n",
              "      <td>0.668440</td>\n",
              "      <td>0.508929</td>\n",
              "      <td>0.796300</td>\n",
              "      <td>146.617776</td>\n",
              "      <td>[0.         0.         0.00299401 0.00299401 0...</td>\n",
              "      <td>[0.         0.01785714 0.01785714 0.03571429 0...</td>\n",
              "      <td>[       inf 0.61095524 0.49674898 0.49042937 0...</td>\n",
              "    </tr>\n",
              "    <tr>\n",
              "      <th>8</th>\n",
              "      <td>0.750855</td>\n",
              "      <td>0.500000</td>\n",
              "      <td>0.790169</td>\n",
              "      <td>82.786062</td>\n",
              "      <td>[0.         0.00299401 0.00598802 0.00598802 0...</td>\n",
              "      <td>[0.         0.         0.         0.01785714 0...</td>\n",
              "      <td>[       inf 0.3439771  0.3304711  0.32497105 0...</td>\n",
              "    </tr>\n",
              "    <tr>\n",
              "      <th>9</th>\n",
              "      <td>0.749733</td>\n",
              "      <td>0.517804</td>\n",
              "      <td>0.798996</td>\n",
              "      <td>107.305981</td>\n",
              "      <td>[0.         0.00299401 0.01197605 0.01197605 0...</td>\n",
              "      <td>[0.         0.         0.         0.03571429 0...</td>\n",
              "      <td>[       inf 0.7977335  0.5715183  0.55293876 0...</td>\n",
              "    </tr>\n",
              "    <tr>\n",
              "      <th>10</th>\n",
              "      <td>0.659378</td>\n",
              "      <td>0.565066</td>\n",
              "      <td>0.780849</td>\n",
              "      <td>90.767645</td>\n",
              "      <td>[0.         0.         0.00299401 0.00299401 0...</td>\n",
              "      <td>[0.         0.01785714 0.01785714 0.03571429 0...</td>\n",
              "      <td>[       inf 0.9910533  0.9708109  0.92499065 0...</td>\n",
              "    </tr>\n",
              "    <tr>\n",
              "      <th>11</th>\n",
              "      <td>0.765291</td>\n",
              "      <td>0.565387</td>\n",
              "      <td>0.821630</td>\n",
              "      <td>295.603430</td>\n",
              "      <td>[0.         0.00299401 0.00299401 0.00598802 0...</td>\n",
              "      <td>[0.         0.         0.01785714 0.01785714 0...</td>\n",
              "      <td>[       inf 0.92790675 0.79272956 0.7311283  0...</td>\n",
              "    </tr>\n",
              "    <tr>\n",
              "      <th>12</th>\n",
              "      <td>0.748637</td>\n",
              "      <td>0.674989</td>\n",
              "      <td>0.786412</td>\n",
              "      <td>112.148853</td>\n",
              "      <td>[0.         0.00299401 0.00299401 0.00598802 0...</td>\n",
              "      <td>[0.         0.         0.07142857 0.07142857 0...</td>\n",
              "      <td>[       inf 0.95580673 0.87600034 0.8731209  0...</td>\n",
              "    </tr>\n",
              "    <tr>\n",
              "      <th>13</th>\n",
              "      <td>0.727055</td>\n",
              "      <td>0.506097</td>\n",
              "      <td>0.796706</td>\n",
              "      <td>180.871441</td>\n",
              "      <td>[0.         0.00299401 0.00299401 0.00598802 0...</td>\n",
              "      <td>[0.         0.         0.01818182 0.01818182 0...</td>\n",
              "      <td>[       inf 0.57961094 0.5492281  0.50259435 0...</td>\n",
              "    </tr>\n",
              "    <tr>\n",
              "      <th>14</th>\n",
              "      <td>0.740283</td>\n",
              "      <td>0.611241</td>\n",
              "      <td>0.813472</td>\n",
              "      <td>377.096830</td>\n",
              "      <td>[0.         0.         0.00898204 0.00898204 0...</td>\n",
              "      <td>[0.         0.01818182 0.01818182 0.05454545 0...</td>\n",
              "      <td>[       inf 0.8447208  0.7917846  0.75362843 0...</td>\n",
              "    </tr>\n",
              "    <tr>\n",
              "      <th>15</th>\n",
              "      <td>0.750109</td>\n",
              "      <td>0.576048</td>\n",
              "      <td>0.822527</td>\n",
              "      <td>225.278446</td>\n",
              "      <td>[0.         0.         0.         0.00598802 0...</td>\n",
              "      <td>[0.         0.01818182 0.07272727 0.07272727 0...</td>\n",
              "      <td>[       inf 0.9597743  0.82159    0.79021806 0...</td>\n",
              "    </tr>\n",
              "    <tr>\n",
              "      <th>16</th>\n",
              "      <td>0.709363</td>\n",
              "      <td>0.577654</td>\n",
              "      <td>0.817533</td>\n",
              "      <td>168.133948</td>\n",
              "      <td>[0.         0.         0.         0.00299401 0...</td>\n",
              "      <td>[0.         0.01818182 0.03636364 0.03636364 0...</td>\n",
              "      <td>[       inf 0.7455206  0.7357288  0.73512834 0...</td>\n",
              "    </tr>\n",
              "    <tr>\n",
              "      <th>17</th>\n",
              "      <td>0.639956</td>\n",
              "      <td>0.540964</td>\n",
              "      <td>0.817409</td>\n",
              "      <td>82.690411</td>\n",
              "      <td>[0.         0.00299401 0.00299401 0.02694611 0...</td>\n",
              "      <td>[0.         0.         0.09090909 0.09090909 0...</td>\n",
              "      <td>[       inf 0.8065694  0.5261669  0.4418029  0...</td>\n",
              "    </tr>\n",
              "    <tr>\n",
              "      <th>18</th>\n",
              "      <td>0.554355</td>\n",
              "      <td>0.500000</td>\n",
              "      <td>0.793296</td>\n",
              "      <td>142.867270</td>\n",
              "      <td>[0.         0.00299401 0.00598802 0.00598802 0...</td>\n",
              "      <td>[0.         0.         0.         0.01818182 0...</td>\n",
              "      <td>[       inf 0.39087808 0.382774   0.3806739  0...</td>\n",
              "    </tr>\n",
              "    <tr>\n",
              "      <th>19</th>\n",
              "      <td>0.539330</td>\n",
              "      <td>0.500000</td>\n",
              "      <td>0.793296</td>\n",
              "      <td>208.582752</td>\n",
              "      <td>[0.         0.         0.00299401 0.00299401 0...</td>\n",
              "      <td>[0.         0.01818182 0.01818182 0.03636364 0...</td>\n",
              "      <td>[       inf 0.49232793 0.39356548 0.3440045  0...</td>\n",
              "    </tr>\n",
              "  </tbody>\n",
              "</table>\n",
              "</div>\n",
              "    <div class=\"colab-df-buttons\">\n",
              "\n",
              "  <div class=\"colab-df-container\">\n",
              "    <button class=\"colab-df-convert\" onclick=\"convertToInteractive('df-b82e4ca4-e9de-49c1-bd34-ff304359779a')\"\n",
              "            title=\"Convert this dataframe to an interactive table.\"\n",
              "            style=\"display:none;\">\n",
              "\n",
              "  <svg xmlns=\"http://www.w3.org/2000/svg\" height=\"24px\" viewBox=\"0 -960 960 960\">\n",
              "    <path d=\"M120-120v-720h720v720H120Zm60-500h600v-160H180v160Zm220 220h160v-160H400v160Zm0 220h160v-160H400v160ZM180-400h160v-160H180v160Zm440 0h160v-160H620v160ZM180-180h160v-160H180v160Zm440 0h160v-160H620v160Z\"/>\n",
              "  </svg>\n",
              "    </button>\n",
              "\n",
              "  <style>\n",
              "    .colab-df-container {\n",
              "      display:flex;\n",
              "      gap: 12px;\n",
              "    }\n",
              "\n",
              "    .colab-df-convert {\n",
              "      background-color: #E8F0FE;\n",
              "      border: none;\n",
              "      border-radius: 50%;\n",
              "      cursor: pointer;\n",
              "      display: none;\n",
              "      fill: #1967D2;\n",
              "      height: 32px;\n",
              "      padding: 0 0 0 0;\n",
              "      width: 32px;\n",
              "    }\n",
              "\n",
              "    .colab-df-convert:hover {\n",
              "      background-color: #E2EBFA;\n",
              "      box-shadow: 0px 1px 2px rgba(60, 64, 67, 0.3), 0px 1px 3px 1px rgba(60, 64, 67, 0.15);\n",
              "      fill: #174EA6;\n",
              "    }\n",
              "\n",
              "    .colab-df-buttons div {\n",
              "      margin-bottom: 4px;\n",
              "    }\n",
              "\n",
              "    [theme=dark] .colab-df-convert {\n",
              "      background-color: #3B4455;\n",
              "      fill: #D2E3FC;\n",
              "    }\n",
              "\n",
              "    [theme=dark] .colab-df-convert:hover {\n",
              "      background-color: #434B5C;\n",
              "      box-shadow: 0px 1px 3px 1px rgba(0, 0, 0, 0.15);\n",
              "      filter: drop-shadow(0px 1px 2px rgba(0, 0, 0, 0.3));\n",
              "      fill: #FFFFFF;\n",
              "    }\n",
              "  </style>\n",
              "\n",
              "    <script>\n",
              "      const buttonEl =\n",
              "        document.querySelector('#df-b82e4ca4-e9de-49c1-bd34-ff304359779a button.colab-df-convert');\n",
              "      buttonEl.style.display =\n",
              "        google.colab.kernel.accessAllowed ? 'block' : 'none';\n",
              "\n",
              "      async function convertToInteractive(key) {\n",
              "        const element = document.querySelector('#df-b82e4ca4-e9de-49c1-bd34-ff304359779a');\n",
              "        const dataTable =\n",
              "          await google.colab.kernel.invokeFunction('convertToInteractive',\n",
              "                                                    [key], {});\n",
              "        if (!dataTable) return;\n",
              "\n",
              "        const docLinkHtml = 'Like what you see? Visit the ' +\n",
              "          '<a target=\"_blank\" href=https://colab.research.google.com/notebooks/data_table.ipynb>data table notebook</a>'\n",
              "          + ' to learn more about interactive tables.';\n",
              "        element.innerHTML = '';\n",
              "        dataTable['output_type'] = 'display_data';\n",
              "        await google.colab.output.renderOutput(dataTable, element);\n",
              "        const docLink = document.createElement('div');\n",
              "        docLink.innerHTML = docLinkHtml;\n",
              "        element.appendChild(docLink);\n",
              "      }\n",
              "    </script>\n",
              "  </div>\n",
              "\n",
              "\n",
              "    <div id=\"df-c788f53f-2132-41a7-a62c-8aac1fd9fd24\">\n",
              "      <button class=\"colab-df-quickchart\" onclick=\"quickchart('df-c788f53f-2132-41a7-a62c-8aac1fd9fd24')\"\n",
              "                title=\"Suggest charts\"\n",
              "                style=\"display:none;\">\n",
              "\n",
              "<svg xmlns=\"http://www.w3.org/2000/svg\" height=\"24px\"viewBox=\"0 0 24 24\"\n",
              "     width=\"24px\">\n",
              "    <g>\n",
              "        <path d=\"M19 3H5c-1.1 0-2 .9-2 2v14c0 1.1.9 2 2 2h14c1.1 0 2-.9 2-2V5c0-1.1-.9-2-2-2zM9 17H7v-7h2v7zm4 0h-2V7h2v10zm4 0h-2v-4h2v4z\"/>\n",
              "    </g>\n",
              "</svg>\n",
              "      </button>\n",
              "\n",
              "<style>\n",
              "  .colab-df-quickchart {\n",
              "      --bg-color: #E8F0FE;\n",
              "      --fill-color: #1967D2;\n",
              "      --hover-bg-color: #E2EBFA;\n",
              "      --hover-fill-color: #174EA6;\n",
              "      --disabled-fill-color: #AAA;\n",
              "      --disabled-bg-color: #DDD;\n",
              "  }\n",
              "\n",
              "  [theme=dark] .colab-df-quickchart {\n",
              "      --bg-color: #3B4455;\n",
              "      --fill-color: #D2E3FC;\n",
              "      --hover-bg-color: #434B5C;\n",
              "      --hover-fill-color: #FFFFFF;\n",
              "      --disabled-bg-color: #3B4455;\n",
              "      --disabled-fill-color: #666;\n",
              "  }\n",
              "\n",
              "  .colab-df-quickchart {\n",
              "    background-color: var(--bg-color);\n",
              "    border: none;\n",
              "    border-radius: 50%;\n",
              "    cursor: pointer;\n",
              "    display: none;\n",
              "    fill: var(--fill-color);\n",
              "    height: 32px;\n",
              "    padding: 0;\n",
              "    width: 32px;\n",
              "  }\n",
              "\n",
              "  .colab-df-quickchart:hover {\n",
              "    background-color: var(--hover-bg-color);\n",
              "    box-shadow: 0 1px 2px rgba(60, 64, 67, 0.3), 0 1px 3px 1px rgba(60, 64, 67, 0.15);\n",
              "    fill: var(--button-hover-fill-color);\n",
              "  }\n",
              "\n",
              "  .colab-df-quickchart-complete:disabled,\n",
              "  .colab-df-quickchart-complete:disabled:hover {\n",
              "    background-color: var(--disabled-bg-color);\n",
              "    fill: var(--disabled-fill-color);\n",
              "    box-shadow: none;\n",
              "  }\n",
              "\n",
              "  .colab-df-spinner {\n",
              "    border: 2px solid var(--fill-color);\n",
              "    border-color: transparent;\n",
              "    border-bottom-color: var(--fill-color);\n",
              "    animation:\n",
              "      spin 1s steps(1) infinite;\n",
              "  }\n",
              "\n",
              "  @keyframes spin {\n",
              "    0% {\n",
              "      border-color: transparent;\n",
              "      border-bottom-color: var(--fill-color);\n",
              "      border-left-color: var(--fill-color);\n",
              "    }\n",
              "    20% {\n",
              "      border-color: transparent;\n",
              "      border-left-color: var(--fill-color);\n",
              "      border-top-color: var(--fill-color);\n",
              "    }\n",
              "    30% {\n",
              "      border-color: transparent;\n",
              "      border-left-color: var(--fill-color);\n",
              "      border-top-color: var(--fill-color);\n",
              "      border-right-color: var(--fill-color);\n",
              "    }\n",
              "    40% {\n",
              "      border-color: transparent;\n",
              "      border-right-color: var(--fill-color);\n",
              "      border-top-color: var(--fill-color);\n",
              "    }\n",
              "    60% {\n",
              "      border-color: transparent;\n",
              "      border-right-color: var(--fill-color);\n",
              "    }\n",
              "    80% {\n",
              "      border-color: transparent;\n",
              "      border-right-color: var(--fill-color);\n",
              "      border-bottom-color: var(--fill-color);\n",
              "    }\n",
              "    90% {\n",
              "      border-color: transparent;\n",
              "      border-bottom-color: var(--fill-color);\n",
              "    }\n",
              "  }\n",
              "</style>\n",
              "\n",
              "      <script>\n",
              "        async function quickchart(key) {\n",
              "          const quickchartButtonEl =\n",
              "            document.querySelector('#' + key + ' button');\n",
              "          quickchartButtonEl.disabled = true;  // To prevent multiple clicks.\n",
              "          quickchartButtonEl.classList.add('colab-df-spinner');\n",
              "          try {\n",
              "            const charts = await google.colab.kernel.invokeFunction(\n",
              "                'suggestCharts', [key], {});\n",
              "          } catch (error) {\n",
              "            console.error('Error during call to suggestCharts:', error);\n",
              "          }\n",
              "          quickchartButtonEl.classList.remove('colab-df-spinner');\n",
              "          quickchartButtonEl.classList.add('colab-df-quickchart-complete');\n",
              "        }\n",
              "        (() => {\n",
              "          let quickchartButtonEl =\n",
              "            document.querySelector('#df-c788f53f-2132-41a7-a62c-8aac1fd9fd24 button');\n",
              "          quickchartButtonEl.style.display =\n",
              "            google.colab.kernel.accessAllowed ? 'block' : 'none';\n",
              "        })();\n",
              "      </script>\n",
              "    </div>\n",
              "\n",
              "  <div id=\"id_d9fd679f-7b7e-45bd-b155-7b37ac19ca81\">\n",
              "    <style>\n",
              "      .colab-df-generate {\n",
              "        background-color: #E8F0FE;\n",
              "        border: none;\n",
              "        border-radius: 50%;\n",
              "        cursor: pointer;\n",
              "        display: none;\n",
              "        fill: #1967D2;\n",
              "        height: 32px;\n",
              "        padding: 0 0 0 0;\n",
              "        width: 32px;\n",
              "      }\n",
              "\n",
              "      .colab-df-generate:hover {\n",
              "        background-color: #E2EBFA;\n",
              "        box-shadow: 0px 1px 2px rgba(60, 64, 67, 0.3), 0px 1px 3px 1px rgba(60, 64, 67, 0.15);\n",
              "        fill: #174EA6;\n",
              "      }\n",
              "\n",
              "      [theme=dark] .colab-df-generate {\n",
              "        background-color: #3B4455;\n",
              "        fill: #D2E3FC;\n",
              "      }\n",
              "\n",
              "      [theme=dark] .colab-df-generate:hover {\n",
              "        background-color: #434B5C;\n",
              "        box-shadow: 0px 1px 3px 1px rgba(0, 0, 0, 0.15);\n",
              "        filter: drop-shadow(0px 1px 2px rgba(0, 0, 0, 0.3));\n",
              "        fill: #FFFFFF;\n",
              "      }\n",
              "    </style>\n",
              "    <button class=\"colab-df-generate\" onclick=\"generateWithVariable('cnn_metrics')\"\n",
              "            title=\"Generate code using this dataframe.\"\n",
              "            style=\"display:none;\">\n",
              "\n",
              "  <svg xmlns=\"http://www.w3.org/2000/svg\" height=\"24px\"viewBox=\"0 0 24 24\"\n",
              "       width=\"24px\">\n",
              "    <path d=\"M7,19H8.4L18.45,9,17,7.55,7,17.6ZM5,21V16.75L18.45,3.32a2,2,0,0,1,2.83,0l1.4,1.43a1.91,1.91,0,0,1,.58,1.4,1.91,1.91,0,0,1-.58,1.4L9.25,21ZM18.45,9,17,7.55Zm-12,3A5.31,5.31,0,0,0,4.9,8.1,5.31,5.31,0,0,0,1,6.5,5.31,5.31,0,0,0,4.9,4.9,5.31,5.31,0,0,0,6.5,1,5.31,5.31,0,0,0,8.1,4.9,5.31,5.31,0,0,0,12,6.5,5.46,5.46,0,0,0,6.5,12Z\"/>\n",
              "  </svg>\n",
              "    </button>\n",
              "    <script>\n",
              "      (() => {\n",
              "      const buttonEl =\n",
              "        document.querySelector('#id_d9fd679f-7b7e-45bd-b155-7b37ac19ca81 button.colab-df-generate');\n",
              "      buttonEl.style.display =\n",
              "        google.colab.kernel.accessAllowed ? 'block' : 'none';\n",
              "\n",
              "      buttonEl.onclick = () => {\n",
              "        google.colab.notebook.generateWithVariable('cnn_metrics');\n",
              "      }\n",
              "      })();\n",
              "    </script>\n",
              "  </div>\n",
              "\n",
              "    </div>\n",
              "  </div>\n"
            ],
            "application/vnd.google.colaboratory.intrinsic+json": {
              "type": "dataframe",
              "variable_name": "cnn_metrics",
              "summary": "{\n  \"name\": \"cnn_metrics\",\n  \"rows\": 20,\n  \"fields\": [\n    {\n      \"column\": \"auc\",\n      \"properties\": {\n        \"dtype\": \"number\",\n        \"std\": 0.09283205650282922,\n        \"min\": 0.4099321365356445,\n        \"max\": 0.7677611708641052,\n        \"num_unique_values\": 20,\n        \"samples\": [\n          0.6633920669555664,\n          0.6399564146995544,\n          0.7501088976860046\n        ],\n        \"semantic_type\": \"\",\n        \"description\": \"\"\n      }\n    },\n    {\n      \"column\": \"balanced_accuracy\",\n      \"properties\": {\n        \"dtype\": \"number\",\n        \"std\": 0.049930069542618735,\n        \"min\": 0.4925373134328358,\n        \"max\": 0.6749893071000859,\n        \"num_unique_values\": 17,\n        \"samples\": [\n          0.4925373134328358,\n          0.4955223880597015,\n          0.5981608212147134\n        ],\n        \"semantic_type\": \"\",\n        \"description\": \"\"\n      }\n    },\n    {\n      \"column\": \"f1\",\n      \"properties\": {\n        \"dtype\": \"number\",\n        \"std\": 0.016372686854992536,\n        \"min\": 0.7808485129752099,\n        \"max\": 0.8423276185315843,\n        \"num_unique_values\": 19,\n        \"samples\": [\n          0.7873931623931624,\n          0.8423276185315843,\n          0.8216301145662849\n        ],\n        \"semantic_type\": \"\",\n        \"description\": \"\"\n      }\n    },\n    {\n      \"column\": \"training_time\",\n      \"properties\": {\n        \"dtype\": \"number\",\n        \"std\": 85.05584131843047,\n        \"min\": 82.69041109085083,\n        \"max\": 377.0968301296234,\n        \"num_unique_values\": 20,\n        \"samples\": [\n          249.37311601638797,\n          82.69041109085083,\n          225.2784459590912\n        ],\n        \"semantic_type\": \"\",\n        \"description\": \"\"\n      }\n    },\n    {\n      \"column\": \"FPR\",\n      \"properties\": {\n        \"dtype\": \"string\",\n        \"num_unique_values\": 20,\n        \"samples\": [\n          \"[0.         0.00298507 0.01492537 0.01492537 0.02089552 0.02089552\\n 0.0238806  0.0238806  0.02985075 0.02985075 0.03283582 0.03283582\\n 0.06567164 0.06567164 0.08955224 0.08955224 0.09850746 0.09850746\\n 0.10149254 0.10149254 0.10447761 0.10447761 0.11044776 0.11044776\\n 0.13134328 0.13134328 0.13432836 0.13432836 0.14029851 0.14029851\\n 0.14328358 0.14328358 0.15522388 0.15522388 0.1880597  0.1880597\\n 0.20895522 0.20895522 0.2119403  0.2119403  0.22985075 0.22985075\\n 0.24776119 0.24776119 0.25970149 0.25970149 0.27164179 0.27164179\\n 0.28059701 0.28059701 0.30149254 0.30149254 0.30746269 0.30746269\\n 0.36119403 0.36119403 0.3641791  0.3641791  0.3761194  0.3761194\\n 0.40597015 0.40597015 0.4358209  0.4358209  0.46567164 0.46567164\\n 0.47164179 0.47164179 0.48955224 0.48955224 0.50447761 0.50447761\\n 0.52835821 0.52835821 0.54626866 0.54626866 0.59104478 0.59104478\\n 0.60298507 0.60298507 0.6358209  0.6358209  0.66865672 0.66865672\\n 0.70149254 0.70149254 0.7641791  0.7641791  0.84179104 0.84179104\\n 0.88059701 0.88059701 0.92238806 0.92238806 0.96716418 0.96716418\\n 1.        ]\",\n          \"[0.         0.00299401 0.00299401 0.02694611 0.02694611 0.02994012\\n 0.02994012 0.03892216 0.03892216 0.04191617 0.04191617 0.04491018\\n 0.04491018 0.06287425 0.06287425 0.0748503  0.0748503  0.11976048\\n 0.11976048 0.13473054 0.13473054 0.15568862 0.15568862 0.16167665\\n 0.16167665 0.17664671 0.17664671 0.18562874 0.18562874 0.19461078\\n 0.19461078 0.25748503 0.25748503 0.26047904 0.26047904 0.26646707\\n 0.26646707 0.2994012  0.2994012  0.30838323 0.30838323 0.32335329\\n 0.32335329 0.35928144 0.35928144 0.39221557 0.39221557 0.39520958\\n 0.39520958 0.41916168 0.41916168 0.47305389 0.47305389 0.49401198\\n 0.49401198 0.5        0.5        0.51497006 0.51497006 0.52694611\\n 0.52694611 0.54491018 0.54491018 0.61676647 0.61676647 0.79041916\\n 0.79041916 0.7994012  0.7994012  0.81736527 0.81736527 0.83233533\\n 0.83233533 0.90718563 0.90718563 0.93712575 0.93712575 0.95508982\\n 0.95508982 0.96107784 0.96107784 0.99101796 0.99101796 1.        ]\",\n          \"[0.         0.         0.         0.00598802 0.00598802 0.00898204\\n 0.00898204 0.01197605 0.01197605 0.0239521  0.0239521  0.02994012\\n 0.02994012 0.03592814 0.03592814 0.04790419 0.04790419 0.05389222\\n 0.05389222 0.05688623 0.05688623 0.05988024 0.05988024 0.07784431\\n 0.07784431 0.11077844 0.11077844 0.14071856 0.14071856 0.14371257\\n 0.14371257 0.15568862 0.15568862 0.18562874 0.18562874 0.20359281\\n 0.20359281 0.23353293 0.23353293 0.23652695 0.23652695 0.24251497\\n 0.24251497 0.25748503 0.25748503 0.2754491  0.2754491  0.29041916\\n 0.29041916 0.30538922 0.30538922 0.32634731 0.32634731 0.32934132\\n 0.32934132 0.34131737 0.34131737 0.36826347 0.36826347 0.38023952\\n 0.38023952 0.39221557 0.39221557 0.39520958 0.39520958 0.41017964\\n 0.41017964 0.46407186 0.46407186 0.48502994 0.48502994 0.51197605\\n 0.51197605 0.54491018 0.54491018 0.5508982  0.5508982  0.57185629\\n 0.57185629 0.60778443 0.60778443 0.61377246 0.61377246 0.89221557\\n 0.89221557 1.        ]\"\n        ],\n        \"semantic_type\": \"\",\n        \"description\": \"\"\n      }\n    },\n    {\n      \"column\": \"TPR\",\n      \"properties\": {\n        \"dtype\": \"string\",\n        \"num_unique_values\": 20,\n        \"samples\": [\n          \"[0.         0.         0.         0.01818182 0.01818182 0.03636364\\n 0.03636364 0.07272727 0.07272727 0.09090909 0.09090909 0.10909091\\n 0.10909091 0.12727273 0.12727273 0.16363636 0.16363636 0.18181818\\n 0.18181818 0.2        0.2        0.21818182 0.21818182 0.27272727\\n 0.27272727 0.29090909 0.29090909 0.30909091 0.30909091 0.32727273\\n 0.32727273 0.34545455 0.34545455 0.36363636 0.36363636 0.38181818\\n 0.38181818 0.41818182 0.41818182 0.43636364 0.43636364 0.45454545\\n 0.45454545 0.47272727 0.47272727 0.50909091 0.50909091 0.52727273\\n 0.52727273 0.54545455 0.54545455 0.56363636 0.56363636 0.58181818\\n 0.58181818 0.6        0.6        0.61818182 0.61818182 0.63636364\\n 0.63636364 0.67272727 0.67272727 0.69090909 0.69090909 0.70909091\\n 0.70909091 0.72727273 0.72727273 0.74545455 0.74545455 0.76363636\\n 0.76363636 0.78181818 0.78181818 0.8        0.8        0.81818182\\n 0.81818182 0.85454545 0.85454545 0.87272727 0.87272727 0.89090909\\n 0.89090909 0.90909091 0.90909091 0.92727273 0.92727273 0.94545455\\n 0.94545455 0.96363636 0.96363636 0.98181818 0.98181818 1.\\n 1.        ]\",\n          \"[0.         0.         0.09090909 0.09090909 0.10909091 0.10909091\\n 0.12727273 0.12727273 0.18181818 0.18181818 0.2        0.2\\n 0.21818182 0.21818182 0.25454545 0.25454545 0.27272727 0.27272727\\n 0.29090909 0.29090909 0.30909091 0.30909091 0.34545455 0.34545455\\n 0.36363636 0.36363636 0.4        0.4        0.41818182 0.41818182\\n 0.45454545 0.45454545 0.47272727 0.47272727 0.49090909 0.49090909\\n 0.50909091 0.50909091 0.52727273 0.52727273 0.54545455 0.54545455\\n 0.56363636 0.56363636 0.58181818 0.58181818 0.6        0.6\\n 0.61818182 0.61818182 0.63636364 0.63636364 0.67272727 0.67272727\\n 0.69090909 0.69090909 0.70909091 0.70909091 0.74545455 0.74545455\\n 0.76363636 0.76363636 0.78181818 0.78181818 0.8        0.8\\n 0.81818182 0.81818182 0.83636364 0.83636364 0.85454545 0.85454545\\n 0.89090909 0.89090909 0.90909091 0.90909091 0.94545455 0.94545455\\n 0.96363636 0.96363636 0.98181818 0.98181818 1.         1.        ]\",\n          \"[0.         0.01818182 0.07272727 0.07272727 0.09090909 0.09090909\\n 0.10909091 0.10909091 0.12727273 0.12727273 0.14545455 0.14545455\\n 0.16363636 0.16363636 0.18181818 0.18181818 0.2        0.2\\n 0.25454545 0.25454545 0.29090909 0.29090909 0.30909091 0.30909091\\n 0.32727273 0.32727273 0.34545455 0.34545455 0.4        0.4\\n 0.41818182 0.41818182 0.43636364 0.43636364 0.45454545 0.45454545\\n 0.47272727 0.47272727 0.49090909 0.49090909 0.50909091 0.50909091\\n 0.52727273 0.52727273 0.54545455 0.54545455 0.56363636 0.56363636\\n 0.58181818 0.58181818 0.6        0.6        0.61818182 0.61818182\\n 0.67272727 0.67272727 0.69090909 0.69090909 0.70909091 0.70909091\\n 0.76363636 0.76363636 0.78181818 0.78181818 0.8        0.8\\n 0.81818182 0.81818182 0.83636364 0.83636364 0.85454545 0.85454545\\n 0.89090909 0.89090909 0.90909091 0.90909091 0.92727273 0.92727273\\n 0.94545455 0.94545455 0.96363636 0.96363636 0.98181818 0.98181818\\n 1.         1.        ]\"\n        ],\n        \"semantic_type\": \"\",\n        \"description\": \"\"\n      }\n    },\n    {\n      \"column\": \"Threshold\",\n      \"properties\": {\n        \"dtype\": \"string\",\n        \"num_unique_values\": 20,\n        \"samples\": [\n          \"[       inf 0.7110383  0.60231143 0.39708012 0.3447089  0.32988933\\n 0.30921647 0.25854072 0.24428084 0.23849063 0.22041087 0.21691352\\n 0.14881359 0.13683802 0.1273068  0.12231444 0.12192023 0.11883433\\n 0.11693385 0.11495779 0.11429491 0.11391216 0.11246105 0.10971759\\n 0.10526987 0.10524261 0.10439342 0.1028377  0.10135178 0.10095713\\n 0.1003404  0.10013561 0.09771428 0.09760501 0.08773509 0.08762271\\n 0.08354838 0.08282025 0.08261193 0.0816994  0.07937033 0.07897274\\n 0.07687455 0.07674678 0.07436407 0.07386082 0.07274565 0.07270291\\n 0.07217347 0.07156794 0.06937489 0.06893953 0.06806941 0.06799831\\n 0.06479172 0.06432591 0.06426017 0.06422202 0.06317461 0.06283452\\n 0.06134977 0.06112787 0.0583312  0.05827082 0.05747151 0.05724343\\n 0.05666699 0.05654712 0.05533966 0.05527227 0.05483415 0.05426568\\n 0.05324409 0.05323892 0.05176538 0.05173336 0.05002785 0.04999087\\n 0.04975794 0.04967966 0.04882995 0.04863726 0.04777232 0.0475997\\n 0.04671333 0.04667092 0.04482839 0.04466983 0.04191085 0.04175879\\n 0.04080375 0.04076736 0.03916236 0.03912357 0.03653342 0.03651727\\n 0.03238846]\",\n          \"[       inf 0.8065694  0.5261669  0.4418029  0.42585906 0.4247921\\n 0.4229905  0.40245247 0.39393094 0.38646418 0.38433316 0.3820016\\n 0.38143292 0.3699892  0.36211127 0.35255742 0.35226017 0.32538152\\n 0.3248604  0.3190723  0.31864926 0.31598058 0.31537223 0.31354007\\n 0.31058827 0.305968   0.30353725 0.30013812 0.30013788 0.29656416\\n 0.29548678 0.28238097 0.28230762 0.2822417  0.28188726 0.2812469\\n 0.28116548 0.27528244 0.27493036 0.27418187 0.2739288  0.27202576\\n 0.27018052 0.26682186 0.26646772 0.2599768  0.2597794  0.25961524\\n 0.2591258  0.25752038 0.2575104  0.2533862  0.253075   0.25175914\\n 0.25141042 0.25092065 0.25089154 0.24890018 0.24850021 0.24733548\\n 0.24707595 0.24499053 0.24498717 0.23841648 0.23828419 0.22463138\\n 0.22449864 0.22388205 0.2238021  0.22110535 0.22065035 0.21785994\\n 0.2174374  0.20453914 0.20417072 0.20004748 0.19908723 0.19354098\\n 0.19273886 0.19222097 0.1920354  0.1750061  0.17469579 0.16844107]\",\n          \"[       inf 0.9597743  0.82159    0.79021806 0.7894584  0.7440386\\n 0.7423945  0.71866685 0.7154605  0.6022419  0.6014454  0.57054085\\n 0.56731695 0.56253475 0.5599032  0.5103989  0.5029309  0.48870975\\n 0.46701232 0.46539536 0.46076557 0.45808887 0.44889382 0.43966365\\n 0.43847853 0.40058848 0.4004056  0.38714463 0.38232046 0.3821642\\n 0.3801959  0.37331915 0.3702262  0.3495685  0.34885234 0.3451613\\n 0.34064248 0.32535896 0.32024264 0.3193413  0.31932163 0.31734547\\n 0.3165488  0.3053874  0.3052825  0.29552895 0.29143965 0.283058\\n 0.2826729  0.2732714  0.2732696  0.2682145  0.2677272  0.26761246\\n 0.2659405  0.26183385 0.25883734 0.25025412 0.24997434 0.2449561\\n 0.23983896 0.23605667 0.23602912 0.23494574 0.23464577 0.23060142\\n 0.2291981  0.2124516  0.21182954 0.20660076 0.20612857 0.2017683\\n 0.20068595 0.18881963 0.18836503 0.18667208 0.18569069 0.18191138\\n 0.18122387 0.17287025 0.17129922 0.16992053 0.16984533 0.07292006\\n 0.07231318 0.00732237]\"\n        ],\n        \"semantic_type\": \"\",\n        \"description\": \"\"\n      }\n    }\n  ]\n}"
            }
          },
          "metadata": {},
          "execution_count": 16
        }
      ]
    },
    {
      "cell_type": "code",
      "source": [
        "cnn_metrics['auc'][3] = 1 - cnn_metrics['auc'][3]"
      ],
      "metadata": {
        "colab": {
          "base_uri": "https://localhost:8080/"
        },
        "id": "Q4EyENI_DstM",
        "outputId": "47d69b4b-51a2-4b65-d0fe-69fcf564c9b5"
      },
      "execution_count": null,
      "outputs": [
      ]
    },
    {
      "cell_type": "code",
      "source": [
        "cnn_metrics['auc'][3]"
      ],
      "metadata": {
        "colab": {
          "base_uri": "https://localhost:8080/"
        },
        "id": "Aaq1xR9JEsGm",
        "outputId": "bf481d29-d47d-459d-91c6-fd9595e87c75"
      },
      "execution_count": null,
      "outputs": [
        {
          "output_type": "execute_result",
          "data": {
            "text/plain": [
              "np.float64(0.5900678634643555)"
            ]
          },
          "metadata": {},
          "execution_count": 18
        }
      ]
    },
    {
      "cell_type": "markdown",
      "source": [
        "# Calculs d'intervalles de confiance sur la différence de performance - contient-il 0 ?"
      ],
      "metadata": {
        "id": "kHNAz8w0hTKr"
      }
    },
    {
      "cell_type": "code",
      "source": [
        "seed = 0"
      ],
      "metadata": {
        "id": "m7eT2EYJhh-g"
      },
      "execution_count": null,
      "outputs": []
    },
    {
      "cell_type": "code",
      "source": [
        "diff_auc = (ann_metrics['auc'] - cnn_metrics['auc']).values\n",
        "diff_f1 = (ann_metrics['f1'] - cnn_metrics['f1']).values\n",
        "diff_bal = (ann_metrics['balanced_accuracy'] - cnn_metrics['balanced_accuracy']).values"
      ],
      "metadata": {
        "id": "29QCWFhdhmbJ"
      },
      "execution_count": null,
      "outputs": []
    },
    {
      "cell_type": "markdown",
      "source": [
        "## AUC"
      ],
      "metadata": {
        "id": "pjccf8iFh3-f"
      }
    },
    {
      "cell_type": "code",
      "source": [
        "#--- IC bootstrap pour l'auc ---\n",
        "n = len(diff_auc)\n",
        "rng = np.random.default_rng(seed)\n",
        "bootstrap_means = [np.mean(rng.choice(diff_auc, size=n, replace=True)) for _ in range(10000)]\n",
        "ic_auc = (float(np.percentile(bootstrap_means, 2.5)), float(np.percentile(bootstrap_means, 97.5)))\n",
        "print(\"IC 95% (bootstrap):\", ic_auc)\n",
        "if ic_auc[0]*ic_auc[1] <= 0:\n",
        "  print(\"IC contient 0 - La différence de performance n'est pas significative\")\n",
        "else:\n",
        "  print(\"IC ne contient pas 0 - La différence de performance est significative\")\n",
        "  if ic_auc[0] > 0:\n",
        "    print(\"L'ANN est significativement meilleur sur l'AUC\")\n",
        "  else:\n",
        "    print(\"Le CNN est significativement meilleur sur l'AUC\")"
      ],
      "metadata": {
        "colab": {
          "base_uri": "https://localhost:8080/"
        },
        "id": "oMk68XU2Xraf",
        "outputId": "af85cb7f-e6a1-4bd1-9f35-caf38efce68b"
      },
      "execution_count": null,
      "outputs": [
        {
          "output_type": "stream",
          "name": "stdout",
          "text": [
            "IC 95% (bootstrap): (-0.09240118473768234, -0.017106855362653772)\n",
            "IC ne contient pas 0 - La différence de performance est significative\n",
            "Le CNN est significativement meilleur sur l'AUC\n"
          ]
        }
      ]
    },
    {
      "cell_type": "markdown",
      "source": [
        "## balanced_accuracy"
      ],
      "metadata": {
        "id": "noZFLIYVh8ba"
      }
    },
    {
      "cell_type": "code",
      "source": [
        "#--- IC bootstrap pour b_acc ---\n",
        "n = len(diff_bal)\n",
        "rng = np.random.default_rng(seed)\n",
        "bootstrap_means = [np.mean(rng.choice(diff_bal, size=n, replace=True)) for _ in range(10000)]\n",
        "ic_bal = (float(np.percentile(bootstrap_means, 2.5)), float(np.percentile(bootstrap_means, 97.5)))\n",
        "print(\"IC 95% (bootstrap):\", ic_bal)\n",
        "if ic_bal[0]*ic_bal[1] <= 0:\n",
        "  print(\"IC contient 0 - La différence de performance n'est pas significative\")\n",
        "else:\n",
        "  print(\"IC ne contient pas 0 - La différence de performance est significative\")\n",
        "  if ic_bal[0] > 0:\n",
        "    print(\"L'ANN est significativement meilleur sur la balanced_accuracy\")\n",
        "  else:\n",
        "    print(\"Le CNN est significativement meilleur sur la balanced_accuracy\")"
      ],
      "metadata": {
        "colab": {
          "base_uri": "https://localhost:8080/"
        },
        "id": "jtfHvS-Qh75T",
        "outputId": "de9e4ce9-81aa-42ce-a012-a3ea3e3289db"
      },
      "execution_count": null,
      "outputs": [
        {
          "output_type": "stream",
          "name": "stdout",
          "text": [
            "IC 95% (bootstrap): (-0.0030805024835965328, 0.0574200313634217)\n",
            "IC contient 0 - La différence de performance n'est pas significative\n"
          ]
        }
      ]
    },
    {
      "cell_type": "markdown",
      "source": [
        "## f1 score"
      ],
      "metadata": {
        "id": "TiWF80btRDAg"
      }
    },
    {
      "cell_type": "code",
      "source": [
        "#--- IC bootstrap pour b_acc ---\n",
        "n = len(diff_f1)\n",
        "rng = np.random.default_rng(seed)\n",
        "bootstrap_means = [np.mean(rng.choice(diff_bal, size=n, replace=True)) for _ in range(10000)]\n",
        "ic_bal = (float(np.percentile(bootstrap_means, 2.5)), float(np.percentile(bootstrap_means, 97.5)))\n",
        "print(\"IC 95% (bootstrap):\", ic_bal)\n",
        "if ic_bal[0]*ic_bal[1] <= 0:\n",
        "  print(\"IC contient 0 - La différence de performance n'est pas significative\")\n",
        "else:\n",
        "  print(\"IC ne contient pas 0 - La différence de performance est significative\")\n",
        "  if ic_bal[0] > 0:\n",
        "    print(\"L'ANN est significativement meilleur sur la balanced_accuracy\")\n",
        "  else:\n",
        "    print(\"Le CNN est significativement meilleur sur la balanced_accuracy\")"
      ],
      "metadata": {
        "colab": {
          "base_uri": "https://localhost:8080/"
        },
        "id": "xhk4PxbfUPUj",
        "outputId": "cd4e28b2-b59e-4989-bf1d-6351baf32022"
      },
      "execution_count": null,
      "outputs": [
        {
          "output_type": "stream",
          "name": "stdout",
          "text": [
            "IC 95% (bootstrap): (-0.0030805024835965328, 0.0574200313634217)\n",
            "IC contient 0 - La différence de performance n'est pas significative\n"
          ]
        }
      ]
    },
    {
      "cell_type": "markdown",
      "source": [
        "## Ecarts Type"
      ],
      "metadata": {
        "id": "o35k2EIBUX5C"
      }
    },
    {
      "cell_type": "markdown",
      "source": [
        "### AUC"
      ],
      "metadata": {
        "id": "JUZVF7ZEUeDv"
      }
    },
    {
      "cell_type": "code",
      "source": [
        "#ecart type auc\n",
        "ann_auc_std = np.std(ann_metrics['auc'])\n",
        "cnn_auc_std = np.std(cnn_metrics['auc'])\n",
        "print(\"Ecart type ANN - AUC:\", ann_auc_std)\n",
        "print(\"Ecart type CNN - AUC:\", cnn_auc_std)"
      ],
      "metadata": {
        "id": "Y2vCyOD2nRE4",
        "colab": {
          "base_uri": "https://localhost:8080/"
        },
        "outputId": "effbc836-5837-4166-93f0-9b3f58967a1a"
      },
      "execution_count": null,
      "outputs": [
        {
          "output_type": "stream",
          "name": "stdout",
          "text": [
            "Ecart type ANN - AUC: 0.03092899696251766\n",
            "Ecart type CNN - AUC: 0.06870940023666994\n"
          ]
        }
      ]
    },
    {
      "cell_type": "markdown",
      "source": [
        "### f1"
      ],
      "metadata": {
        "id": "mwU4SuxkUc_Y"
      }
    },
    {
      "cell_type": "code",
      "source": [
        "#ecarts types auc\n"
      ],
      "metadata": {
        "colab": {
          "base_uri": "https://localhost:8080/"
        },
        "id": "tVXU_U0fUoWE",
        "outputId": "662399e2-b3e6-4987-b8d8-ac8d23844ce7"
      },
      "execution_count": null,
      "outputs": [
        {
          "output_type": "stream",
          "name": "stdout",
          "text": [
            "Ecart type ANN - F1: 0.019846339101184787\n",
            "Ecart type CNN - F1: 0.015958121164756933\n"
          ]
        }
      ]
    },
    {
      "cell_type": "markdown",
      "source": [
        "### Balanced-Accuracy"
      ],
      "metadata": {
        "id": "hKY_RSrsUh09"
      }
    },
    {
      "cell_type": "code",
      "source": [
        "#ecarts types auc\n",
        "ann_bal_std = np.std(ann_metrics['balanced_accuracy'])\n",
        "cnn_bal_std = np.std(cnn_metrics['balanced_accuracy'])\n",
        "print(\"Ecart type ANN - BalAccuracy:\", ann_bal_std)\n",
        "print(\"Ecart type CNN - BalAccuracy:\", cnn_bal_std)"
      ],
      "metadata": {
        "colab": {
          "base_uri": "https://localhost:8080/"
        },
        "id": "lzJWb9jCD7kQ",
        "outputId": "7a6bdd45-8587-4e37-bf21-d1a06e3df544"
      },
      "execution_count": null,
      "outputs": [
        {
          "output_type": "stream",
          "name": "stdout",
          "text": [
            "Ecart type ANN - BalAccuracy: 0.035598414029022\n",
            "Ecart type CNN - BalAccuracy: 0.048665811945391456\n"
          ]
        }
      ]
    },
    {
      "cell_type": "markdown",
      "source": [
        "### Training time"
      ],
      "metadata": {
        "id": "b-ef2uBJYHqS"
      }
    },
    {
      "cell_type": "code",
      "source": [
        "#moyenne balanced_accuracy\n",
        "ann_time_std = np.std(ann_metrics['training_time'])\n",
        "cnn_time_std = np.std(cnn_metrics['training_time'])\n",
        "print(\"Ecart-type ANN - Training time:\", ann_time_std)\n",
        "print(\"Ecart-type CNN - Training time:\", cnn_time_std)"
      ],
      "metadata": {
        "colab": {
          "base_uri": "https://localhost:8080/"
        },
        "id": "7timQy0xYHTH",
        "outputId": "751905d1-9f96-4334-af88-c0bfb468bd0c"
      },
      "execution_count": null,
      "outputs": [
        {
          "output_type": "stream",
          "name": "stdout",
          "text": [
            "Ecart-type ANN - Training time: 6.916662016583671\n",
            "Ecart-type CNN - Training time: 82.90217931554466\n"
          ]
        }
      ]
    },
    {
      "cell_type": "markdown",
      "source": [
        "## Moyennes"
      ],
      "metadata": {
        "id": "QCQm11L3VDm7"
      }
    },
    {
      "cell_type": "markdown",
      "source": [
        "### AUC"
      ],
      "metadata": {
        "id": "9BxJz_dUVbSn"
      }
    },
    {
      "cell_type": "code",
      "source": [
        "#moyenne balanced_accuracy\n",
        "ann_auc_mean = np.mean(ann_metrics['auc'])\n",
        "cnn_auc_mean = np.mean(cnn_metrics['auc'])\n",
        "print(\"Moyenne ANN - AUC:\", ann_auc_mean)\n",
        "print(\"Moyenne CNN - AUC:\", cnn_auc_mean)"
      ],
      "metadata": {
        "colab": {
          "base_uri": "https://localhost:8080/"
        },
        "id": "Tq87v295VbqF",
        "outputId": "1729ca4e-ba60-4ece-d64f-e24f3a8dc536"
      },
      "execution_count": null,
      "outputs": [
        {
          "output_type": "stream",
          "name": "stdout",
          "text": [
            "Moyenne ANN - AUC: 0.6405082464218139\n",
            "Moyenne CNN - AUC: 0.6969093948602676\n"
          ]
        }
      ]
    },
    {
      "cell_type": "markdown",
      "source": [
        "### f1"
      ],
      "metadata": {
        "id": "vS1P4IsWVZmN"
      }
    },
    {
      "cell_type": "code",
      "source": [
        "#moyenne balanced_accuracy\n",
        "ann_f1_mean = np.mean(ann_metrics['f1'])\n",
        "cnn_f1_mean = np.mean(cnn_metrics['f1'])\n",
        "print(\"Moyenne ANN:\", ann_f1_mean)\n",
        "print(\"Moyenne CNN:\", cnn_f1_mean)"
      ],
      "metadata": {
        "colab": {
          "base_uri": "https://localhost:8080/"
        },
        "id": "GLeneBttVZLt",
        "outputId": "14a249f8-0d00-467c-abf4-bcb1a391f97b"
      },
      "execution_count": null,
      "outputs": [
        {
          "output_type": "stream",
          "name": "stdout",
          "text": [
            "Moyenne ANN: 0.8067244434811712\n",
            "Moyenne CNN: 0.8033715820145011\n"
          ]
        }
      ]
    },
    {
      "cell_type": "markdown",
      "source": [
        "### Balanced-Accuracy"
      ],
      "metadata": {
        "id": "2BQnan4oVXN2"
      }
    },
    {
      "cell_type": "code",
      "source": [
        "#moyenne balanced_accuracy\n",
        "ann_bal_mean = np.mean(ann_metrics['balanced_accuracy'])\n",
        "cnn_bal_mean = np.mean(cnn_metrics['balanced_accuracy'])\n",
        "print(\"Moyenne ANN:\", ann_bal_mean)\n",
        "print(\"Moyenne CNN:\", cnn_bal_mean)"
      ],
      "metadata": {
        "colab": {
          "base_uri": "https://localhost:8080/"
        },
        "id": "EJ8Nd1bnEGm0",
        "outputId": "bb09e5fe-3510-4965-c523-0e0b28d3ecc8"
      },
      "execution_count": null,
      "outputs": [
        {
          "output_type": "stream",
          "name": "stdout",
          "text": [
            "Moyenne ANN: 0.5716779191181505\n",
            "Moyenne CNN: 0.5442002740980532\n"
          ]
        }
      ]
    },
    {
      "cell_type": "markdown",
      "source": [
        "### Training Time"
      ],
      "metadata": {
        "id": "Z1yOpH3Wk3WO"
      }
    },
    {
      "cell_type": "code",
      "source": [
        "#moyenne balanced_accuracy\n",
        "ann_time_mean = np.mean(ann_metrics['training_time'])\n",
        "cnn_time_mean = np.mean(cnn_metrics['training_time'])\n",
        "print(\"Moyenne ANN - Training time:\", ann_time_mean)\n",
        "print(\"Moyenne CNN - Training time:\", cnn_time_mean)"
      ],
      "metadata": {
        "colab": {
          "base_uri": "https://localhost:8080/"
        },
        "id": "qNbkUnMCXqFt",
        "outputId": "bd2a0211-e164-4cfd-91ae-e86cb6ddf93a"
      },
      "execution_count": null,
      "outputs": [
        {
          "output_type": "stream",
          "name": "stdout",
          "text": [
            "Moyenne ANN - Training time: 31.753311562538148\n",
            "Moyenne CNN - Training time: 174.4442038178444\n"
          ]
        }
      ]
    },
    {
      "cell_type": "code",
      "source": [
        "import matplotlib.pyplot as plt\n",
        "\n",
        "import re\n",
        "import numpy as np\n",
        "\n",
        "_float_re = re.compile(r'[+-]?(?:\\d+\\.\\d*|\\.\\d+|\\d+)(?:[eE][+-]?\\d+)?')\n",
        "\n",
        "def to_float_array(x, errors='raise'):\n",
        "    \"\"\"\n",
        "    Convertit x en numpy.ndarray(dtype=float) de façon robuste.\n",
        "    x peut être : str (ex: \"[0. 0.1 0.2\\n 0.3]\"), list/tuple, np.ndarray, pandas.Series.\n",
        "    errors: 'raise' (par défaut) ou 'coerce' (mettra np.nan pour les valeurs non convertibles).\n",
        "    \"\"\"\n",
        "    # helpers\n",
        "    def _coerce_or_raise(msg):\n",
        "        if errors == 'coerce':\n",
        "            return np.nan\n",
        "        raise ValueError(msg)\n",
        "\n",
        "    # cas simple : déjà numérique\n",
        "    if isinstance(x, np.ndarray) and x.dtype.kind in 'fiu':\n",
        "        return x.astype(float)\n",
        "\n",
        "    # pandas.Series => traiter comme itérable (lazy import)\n",
        "    try:\n",
        "        import pandas as pd\n",
        "    except Exception:\n",
        "        pd = None\n",
        "    if pd is not None and isinstance(x, pd.Series):\n",
        "        x = x.values\n",
        "\n",
        "    # si c'est une chaine qui contient potentiellement tout le tableau\n",
        "    if isinstance(x, str):\n",
        "        s = x.strip()\n",
        "        # si la chaîne semble utiliser la virgule comme séparateur décimal (FR), essaye de corriger\n",
        "        if ',' in s and '.' not in s:\n",
        "            s = s.replace(',', '.')\n",
        "        # cherche tous les nombres dans la chaîne\n",
        "        found = _float_re.findall(s)\n",
        "        if found:\n",
        "            return np.array([float(f) for f in found], dtype=float)\n",
        "        # fallback : tenter un split sur les séparateurs non numériques\n",
        "        toks = re.split(r'[^\\d\\.\\-+eE]+', s)\n",
        "        toks = [t for t in toks if t.strip() != '']\n",
        "        if toks:\n",
        "            try:\n",
        "                return np.array([float(t) for t in toks], dtype=float)\n",
        "            except Exception:\n",
        "                return np.array([_coerce_or_raise(f\"Can't parse token(s) from string: {toks}\")], dtype=float)\n",
        "        return np.array([_coerce_or_raise(\"No numbers found in string\")], dtype=float)\n",
        "\n",
        "    # si itérable (list, tuple, np.ndarray d'objets, ...):\n",
        "    if hasattr(x, '__iter__'):\n",
        "        out = []\n",
        "        for elem in x:\n",
        "            # bytes -> str\n",
        "            if isinstance(elem, (bytes, bytearray)):\n",
        "                elem = elem.decode(errors='ignore')\n",
        "            # nombres purs\n",
        "            if isinstance(elem, (int, float, np.floating, np.integer)):\n",
        "                out.append(float(elem))\n",
        "                continue\n",
        "            # si c'est une string qui contient plusieurs nombres (ex: \"[0. 0.1 ...]\") on extrait tous les nombres\n",
        "            if isinstance(elem, str):\n",
        "                s = elem.strip()\n",
        "                if ',' in s and '.' not in s:\n",
        "                    s = s.replace(',', '.')\n",
        "                found = _float_re.findall(s)\n",
        "                if len(found) == 1:\n",
        "                    out.append(float(found[0]))\n",
        "                    continue\n",
        "                elif len(found) > 1:\n",
        "                    # étend la sortie si un élément contient plusieurs nombres\n",
        "                    out.extend([float(f) for f in found])\n",
        "                    continue\n",
        "            # tentative directe\n",
        "            try:\n",
        "                out.append(float(elem))\n",
        "            except Exception:\n",
        "                # essai regex sur l'élément\n",
        "                s = str(elem)\n",
        "                found = _float_re.search(s)\n",
        "                if found:\n",
        "                    out.append(float(found.group()))\n",
        "                else:\n",
        "                    if errors == 'coerce':\n",
        "                        out.append(np.nan)\n",
        "                    else:\n",
        "                        raise ValueError(f\"Impossible de convertir l'élément en float: {elem!r}\")\n",
        "        return np.array(out, dtype=float)\n",
        "\n",
        "    # cas restant : essayer conversion directe\n",
        "    try:\n",
        "        return np.array([float(x)], dtype=float)\n",
        "    except Exception:\n",
        "        return np.array([_coerce_or_raise(f\"Can't convert input of type {type(x)}\")], dtype=float)\n"
      ],
      "metadata": {
        "id": "qG35dT_UlHvm"
      },
      "execution_count": null,
      "outputs": []
    },
    {
      "cell_type": "code",
      "source": [
        "for i in range(len(cnn_metrics['FPR'])):\n",
        "  FPR = to_float_array(cnn_metrics['FPR'][i])\n",
        "  TPR = to_float_array(cnn_metrics['TPR'][i])\n",
        "  if i == 3:\n",
        "    plt.plot(TPR, FPR) #axis are flipped for the 4th fold\n",
        "  else:\n",
        "    plt.plot(FPR, TPR)\n",
        "\n",
        "plt.plot([0, 1], [0, 1])\n",
        "plt.title('CNN - ROC Curve per fold')\n",
        "plt.show()"
      ],
      "metadata": {
        "colab": {
          "base_uri": "https://localhost:8080/",
          "height": 452
        },
        "id": "v4ye3ph0qx2L",
        "outputId": "72acd9cf-ae65-497a-82e5-bb39c4b04020"
      },
      "execution_count": null,
      "outputs": [
        {
          "output_type": "display_data",
          "data": {
            "text/plain": [
              "<Figure size 640x480 with 1 Axes>"
            ],
            "image/png": "[encoded data removed]"
          },
          "metadata": {}
        }
      ]
    },
    {
      "cell_type": "code",
      "source": [
        "for i in range(len(cnn_metrics['FPR'])):\n",
        "  FPR = to_float_array(ann_metrics['FPR'][i])\n",
        "  TPR = to_float_array(ann_metrics['TPR'][i])\n",
        "  plt.plot(FPR, TPR)\n",
        "\n",
        "plt.plot([0, 1], [0, 1])\n",
        "plt.title('ANN - ROC Curve per fold')\n",
        "plt.show()"
      ],
      "metadata": {
        "colab": {
          "base_uri": "https://localhost:8080/",
          "height": 452
        },
        "id": "pN38HNWNrBw7",
        "outputId": "1b7ec2b3-4d82-4acc-c0c1-de348b052406"
      },
      "execution_count": null,
      "outputs": [
        {
          "output_type": "display_data",
          "data": {
            "text/plain": [
              "<Figure size 640x480 with 1 Axes>"
            ],
            "image/png": "[encoded data removed]"
          },
          "metadata": {}
        }
      ]
    },
    {
      "cell_type": "markdown",
      "source": [
        "# Training time"
      ],
      "metadata": {
        "id": "-5Yg3yLF_xyJ"
      }
    },
    {
      "cell_type": "code",
      "source": [
        "import glob\n",
        "\n",
        "# Récupère tous les fichiers texte d'un dossier\n",
        "fichiers = glob.glob(\"*.txt\")\n",
        "\n",
        "data = []\n",
        "\n",
        "for f in fichiers:\n",
        "    mesures = {\"fichier\": f.split(\"/\")[-1]}  #dictionnaire pour ce fichier\n",
        "    with open(f, \"r\", encoding=\"utf-8\") as file:\n",
        "        for ligne in file:\n",
        "            #Exemple : \"CNN 9741.59652686119s\"\n",
        "            parts = ligne.strip().split()\n",
        "            if len(parts) == 2:\n",
        "                archi = parts[0]                # \"CNN\" ou \"ANN\"\n",
        "                valeur = float(parts[1][:-1])   # enlever le 's' et convertir en float\n",
        "                mesures[archi] = valeur\n",
        "    data.append(mesures)\n",
        "\n",
        "#Construire le DataFrame\n",
        "df = pd.DataFrame(data)\n",
        "\n",
        "print(df)\n"
      ],
      "metadata": {
        "id": "-Zh-UqmtsKhp",
        "colab": {
          "base_uri": "https://localhost:8080/"
        },
        "outputId": "24f0f0b7-71a3-4984-95d3-44c7a7ce189c"
      },
      "execution_count": null,
      "outputs": [
        {
          "output_type": "stream",
          "name": "stdout",
          "text": [
            "                    fichier           CNN          ANN\n",
            "0    execution_time_1-4.txt   9741.596527  2049.747654\n",
            "1    execution_time_5-8.txt  11099.720914  2110.488569\n",
            "2   execution_time_9-15.txt  20323.499093  4380.069375\n",
            "3  execution_time_16-20.txt  10526.094645  2135.760991\n"
          ]
        }
      ]
    },
    {
      "cell_type": "code",
      "source": [],
      "metadata": {
        "id": "VWB92v07TRam"
      },
      "execution_count": null,
      "outputs": []
    }
  ]
}
